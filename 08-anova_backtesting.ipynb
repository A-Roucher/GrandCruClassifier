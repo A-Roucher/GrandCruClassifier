{
 "cells": [
  {
   "cell_type": "code",
   "execution_count": null,
   "metadata": {},
   "outputs": [],
   "source": [
    "import pandas as pd\n",
    "import matplotlib.pyplot as plt\n",
    "import seaborn as sns\n",
    "from scipy.stats import f_oneway, ttest_ind\n",
    "\n",
    "plt.rcParams['figure.figsize'] = (10, 4)\n",
    "%load_ext autoreload\n",
    "%autoreload 2\n",
    "font = {\n",
    "    'weight' : 'regular',\n",
    "    'family': 'serif',\n",
    "    'size'   : 16\n",
    "}\n",
    "plt.rc('font', **font)"
   ]
  },
  {
   "cell_type": "code",
   "execution_count": null,
   "metadata": {},
   "outputs": [],
   "source": [
    "scores_lls = pd.read_excel(\n",
    "    f\"model_outputs/scores/lls_predictions-METEO-FRANCE_per_vineyard.xlsx\"\n",
    ")\n",
    "scores_lls = scores_lls[scores_lls[\"Test variable\"] == \"Spearman\"]\n",
    "scores_model_pool = pd.read_excel(f\"model_outputs/scores/model_pool_per_vineyard.xlsx\")\n",
    "scores_model_pool = scores_model_pool[scores_model_pool[\"Test variable\"] == \"Spearman\"]"
   ]
  },
  {
   "cell_type": "code",
   "execution_count": null,
   "metadata": {},
   "outputs": [],
   "source": [
    "display(scores_lls.head())\n",
    "display(scores_model_pool.head())"
   ]
  },
  {
   "cell_type": "markdown",
   "metadata": {},
   "source": [
    "## ANOVA for phenology adapted features"
   ]
  },
  {
   "cell_type": "code",
   "execution_count": null,
   "metadata": {},
   "outputs": [],
   "source": [
    "sns.violinplot(data=scores_model_pool.drop(['Test variable'], axis=1))\n",
    "plt.xticks(rotation=90)\n",
    "plt.show()"
   ]
  },
  {
   "cell_type": "code",
   "execution_count": null,
   "metadata": {},
   "outputs": [],
   "source": [
    "print(f_oneway(\n",
    "    scores_model_pool[\"OLS\"],\n",
    "    scores_model_pool[\"Ashenfelter OLS\"],\n",
    "    scores_model_pool[\"Quadratic OLS\"],\n",
    "))\n",
    "\n",
    "print(ttest_ind(\n",
    "    scores_model_pool[\"OLS\"],\n",
    "    scores_model_pool[\"Ashenfelter OLS\"],\n",
    "    equal_var=False\n",
    "))"
   ]
  },
  {
   "cell_type": "markdown",
   "metadata": {},
   "source": [
    "## Welch test for time-varying structure\n",
    "Welch test can be used without any assumption about equality of variance (unlike the student t test)"
   ]
  },
  {
   "cell_type": "code",
   "execution_count": null,
   "metadata": {},
   "outputs": [],
   "source": [
    "sns.violinplot(data=scores_lls.drop(['Test variable'], axis=1))\n",
    "plt.xticks(rotation=90)\n",
    "plt.show()"
   ]
  },
  {
   "cell_type": "code",
   "execution_count": null,
   "metadata": {},
   "outputs": [],
   "source": [
    "ttest_ind(\n",
    "    scores_lls[\"Classical OLS\"],\n",
    "    scores_lls[\"LLS gaussian kernel\"],\n",
    "    equal_var=False\n",
    ")"
   ]
  },
  {
   "cell_type": "markdown",
   "metadata": {},
   "source": [
    "---\n",
    "## End of notebook"
   ]
  }
 ],
 "metadata": {
  "kernelspec": {
   "display_name": "Python 3.8.5 ('base')",
   "language": "python",
   "name": "python3"
  },
  "language_info": {
   "codemirror_mode": {
    "name": "ipython",
    "version": 3
   },
   "file_extension": ".py",
   "mimetype": "text/x-python",
   "name": "python",
   "nbconvert_exporter": "python",
   "pygments_lexer": "ipython3",
   "version": "3.8.5"
  },
  "vscode": {
   "interpreter": {
    "hash": "6264f468922f00fb0b021562f7c8975e1d70a24288160f1875032f8709927306"
   }
  }
 },
 "nbformat": 4,
 "nbformat_minor": 4
}
