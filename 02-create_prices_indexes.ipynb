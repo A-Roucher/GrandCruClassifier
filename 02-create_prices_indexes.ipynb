{
 "cells": [
  {
   "cell_type": "code",
   "execution_count": null,
   "metadata": {},
   "outputs": [],
   "source": [
    "import pandas as pd\n",
    "import numpy as np\n",
    "import matplotlib.pyplot as plt\n",
    "import seaborn as sns\n",
    "\n",
    "from scripts.utils import save_fig\n",
    "\n",
    "%load_ext autoreload\n",
    "%autoreload 2\n",
    "plt.rcParams[\"figure.figsize\"] = (12, 4)\n",
    "font = {'weight' : 'regular',\n",
    "        'family': \"serif\",\n",
    "        'size'   : 16}\n",
    "plt.rc('font', **font)\n",
    "plt.rc('xtick', labelsize='14')\n",
    "plt.rc('ytick', labelsize='14')"
   ]
  },
  {
   "cell_type": "code",
   "execution_count": null,
   "metadata": {},
   "outputs": [],
   "source": [
    "COLOR_PALETTE = np.array(sns.color_palette(\"colorblind\"))[[5,0,2,3]]"
   ]
  },
  {
   "cell_type": "code",
   "execution_count": null,
   "metadata": {},
   "outputs": [],
   "source": [
    "prices = pd.read_excel('data/prices/prices_06-2023.xlsx', header=0, index_col=0)\n",
    "# prices = prices.drop(list(range(2014, 2021)), axis=1)"
   ]
  },
  {
   "cell_type": "code",
   "execution_count": null,
   "metadata": {},
   "outputs": [],
   "source": [
    "prices = prices.reset_index().groupby(['index', 'Appellation']).first()\n",
    "prices.index.names = ['Vineyard', 'Appellation']"
   ]
  },
  {
   "cell_type": "code",
   "execution_count": null,
   "metadata": {},
   "outputs": [],
   "source": [
    "(\n",
    "    prices.reset_index()[[\"Vineyard\", \"Appellation\"]].sort_values(\n",
    "        [\"Appellation\", \"Vineyard\"]\n",
    "    )\n",
    ").to_excel(\"data/prices/vineyard_list.xlsx\", index=False)"
   ]
  },
  {
   "cell_type": "code",
   "execution_count": null,
   "metadata": {},
   "outputs": [],
   "source": [
    "prices = (\n",
    "    prices.transpose()\n",
    "    .reset_index()\n",
    "    .melt(id_vars=\"index\")\n",
    "    .rename(columns={\"index\": \"Vintage\", \"value\": \"Price\"})\n",
    ")"
   ]
  },
  {
   "cell_type": "code",
   "execution_count": null,
   "metadata": {},
   "outputs": [],
   "source": [
    "prices = prices[prices['Vintage'] >= 1960]"
   ]
  },
  {
   "cell_type": "code",
   "execution_count": null,
   "metadata": {},
   "outputs": [],
   "source": [
    "ranking = prices.groupby('Vineyard')['Price'].mean().sort_values(ascending=False)\n",
    "top_wines = ranking.index.to_list()"
   ]
  },
  {
   "cell_type": "code",
   "execution_count": null,
   "metadata": {},
   "outputs": [],
   "source": [
    "plt.figure(figsize=(10, 6))\n",
    "plt.yscale(\"log\")\n",
    "PROPS = {\n",
    "    \"boxprops\": {\"facecolor\": \"lightgrey\", \"edgecolor\": \"k\"},\n",
    "    \"medianprops\": {\"color\": \"k\"},\n",
    "    \"whiskerprops\": {\"color\": \"k\"},\n",
    "    \"capprops\": {\"color\": \"k\"},\n",
    "}\n",
    "plt.grid(True, which=\"major\")\n",
    "sns.boxplot(\n",
    "    data=prices[(prices[\"Vineyard\"].isin(top_wines[:20]))],\n",
    "    x=\"Vineyard\",\n",
    "    y=\"Price\",\n",
    "    order=top_wines[:20],\n",
    "    **PROPS\n",
    ")\n",
    "plt.xticks(rotation=90)\n",
    "plt.ylim(0, 5000)\n",
    "plt.ylabel(\"Average 2023 price for vintages 1960-2013(€)\")\n",
    "\n",
    "save_fig(\"views/prices/top_wines\", width_column=\"1.5\")\n",
    "plt.show()"
   ]
  },
  {
   "attachments": {},
   "cell_type": "markdown",
   "metadata": {},
   "source": [
    "# Get appellation price indexes"
   ]
  },
  {
   "attachments": {},
   "cell_type": "markdown",
   "metadata": {},
   "source": [
    "## Médoc"
   ]
  },
  {
   "cell_type": "code",
   "execution_count": null,
   "metadata": {},
   "outputs": [],
   "source": [
    "prices['Appellation'].unique()"
   ]
  },
  {
   "cell_type": "code",
   "execution_count": null,
   "metadata": {},
   "outputs": [],
   "source": [
    "prices_medoc = prices[prices[\"Appellation\"] == \"Médoc\"]\n",
    "print(\"Missing per vineyard:\")\n",
    "display(prices_medoc[prices_medoc.isna().any(axis=1)][\"Vineyard\"].value_counts())\n",
    "\n",
    "EXCLUDED_VINEYARDS = [\n",
    "    \"Château Clerc-Milon\",\n",
    "    \"Château Latour\",\n",
    "    \"Château Pontet-Canet\",\n",
    "    \"Château Pichon-Longueville Comtesse de Lalande\",\n",
    "    \"Château Léoville-Barton\",\n",
    "    \"Château d'Armailhac\",\n",
    "]\n",
    "wines_medoc = [\n",
    "    wine\n",
    "    for wine in list(prices_medoc[\"Vineyard\"].unique())\n",
    "    if wine not in EXCLUDED_VINEYARDS\n",
    "]\n",
    "prices_medoc = prices_medoc[~prices_medoc[\"Vineyard\"].isin(EXCLUDED_VINEYARDS)]\n",
    "display(\n",
    "    prices_medoc[prices_medoc.isna().any(axis=1)][\"Vintage\"].value_counts().sort_index()\n",
    ")"
   ]
  },
  {
   "cell_type": "code",
   "execution_count": null,
   "metadata": {},
   "outputs": [],
   "source": [
    "plt.figure(figsize=(14, 8))\n",
    "plt.yscale(\"log\")\n",
    "sns.lineplot(data=prices_medoc, x=\"Vintage\", y=\"Price\", hue=\"Vineyard\")\n",
    "plt.suptitle(\"Prices per vintage\")\n",
    "plt.legend(bbox_to_anchor=(1.01, 1), borderaxespad=0)\n",
    "plt.show()"
   ]
  },
  {
   "attachments": {},
   "cell_type": "markdown",
   "metadata": {},
   "source": [
    "### Convert prices to log, then interpolate linearly"
   ]
  },
  {
   "cell_type": "code",
   "execution_count": null,
   "metadata": {},
   "outputs": [],
   "source": [
    "prices_medoc.loc[:,'Price'] = np.log(prices_medoc['Price'])\n",
    "prices_medoc.loc[:,'Price'] = prices_medoc.groupby('Vineyard').transform(lambda s: s.interpolate(limit_area='inside'))#.ffill()"
   ]
  },
  {
   "cell_type": "code",
   "execution_count": null,
   "metadata": {},
   "outputs": [],
   "source": [
    "plt.figure(figsize=(14, 8))\n",
    "sns.lineplot(\n",
    "    data=prices_medoc, x=\"Vintage\", y=\"Price\", hue=\"Vineyard\", palette=\"colorblind\"\n",
    ")\n",
    "plt.suptitle(\"Prices per vintage\")\n",
    "plt.legend(bbox_to_anchor=(1.01, 1), borderaxespad=0)\n",
    "plt.tight_layout()\n",
    "plt.show()"
   ]
  },
  {
   "cell_type": "code",
   "execution_count": null,
   "metadata": {},
   "outputs": [],
   "source": [
    "avg_price_medoc = prices_medoc.groupby('Vintage').mean()"
   ]
  },
  {
   "attachments": {},
   "cell_type": "markdown",
   "metadata": {},
   "source": [
    "## Pessac-Léognan"
   ]
  },
  {
   "cell_type": "code",
   "execution_count": null,
   "metadata": {},
   "outputs": [],
   "source": [
    "prices_pessac = prices[prices['Appellation'] == 'Pessac-Léognan']\n",
    "print('Missing per vineyard:')\n",
    "display(prices_pessac[prices_pessac.isna().any(axis=1)]['Vineyard'].value_counts())\n",
    "\n",
    "EXCLUDED_VINEYARDS = [\n",
    "    'Château La Tour Haut-Brion',\n",
    "    'Château Les Carmes Haut-Brion',\n",
    "    'Château Haut-Bailly',\n",
    "]\n",
    "wines_pessac = [wine for wine in list(prices_pessac['Vineyard'].unique()) if wine not in EXCLUDED_VINEYARDS]\n",
    "\n",
    "prices_pessac = prices_pessac[~prices_pessac['Vineyard'].isin(EXCLUDED_VINEYARDS)]\n",
    "display(prices_pessac[prices_pessac.isna().any(axis=1)]['Vintage'].value_counts().sort_index())"
   ]
  },
  {
   "cell_type": "code",
   "execution_count": null,
   "metadata": {},
   "outputs": [],
   "source": [
    "plt.figure(figsize=(14,8))\n",
    "plt.yscale('log')\n",
    "sns.lineplot(data=prices_pessac, x='Vintage', y='Price', hue='Vineyard')\n",
    "plt.suptitle('Prices per vintage')\n",
    "plt.legend(bbox_to_anchor=(1.01, 1),\n",
    "           borderaxespad=0)\n",
    "plt.show()"
   ]
  },
  {
   "attachments": {},
   "cell_type": "markdown",
   "metadata": {},
   "source": [
    "### Convert prices to log, then interpolate linearly"
   ]
  },
  {
   "cell_type": "code",
   "execution_count": null,
   "metadata": {},
   "outputs": [],
   "source": [
    "prices_pessac.loc[:,'Price'] = np.log(prices_pessac['Price'])\n",
    "prices_pessac.loc[:,'Price'] = prices_pessac.groupby('Vineyard').transform(lambda s: s.interpolate(limit_area='inside'))#.ffill()"
   ]
  },
  {
   "cell_type": "code",
   "execution_count": null,
   "metadata": {},
   "outputs": [],
   "source": [
    "plt.figure(figsize=(14,8))\n",
    "sns.lineplot(data=prices_pessac, x='Vintage', y='Price', hue='Vineyard')\n",
    "plt.suptitle('Prices per vintage')\n",
    "plt.legend(bbox_to_anchor=(1.01, 1),\n",
    "           borderaxespad=0)\n",
    "plt.show()"
   ]
  },
  {
   "cell_type": "code",
   "execution_count": null,
   "metadata": {},
   "outputs": [],
   "source": [
    "avg_price_pessac = prices_pessac.groupby('Vintage').mean()"
   ]
  },
  {
   "attachments": {},
   "cell_type": "markdown",
   "metadata": {},
   "source": [
    "## Saint-Emilion"
   ]
  },
  {
   "cell_type": "code",
   "execution_count": null,
   "metadata": {},
   "outputs": [],
   "source": [
    "prices_st_em = prices[prices[\"Appellation\"] == \"Saint-Emilion\"]\n",
    "print(\"Missing per vineyard:\")\n",
    "display(prices_st_em[prices_st_em.isna().any(axis=1)][\"Vineyard\"].value_counts())\n",
    "\n",
    "EXCLUDED_VINEYARDS = [\n",
    "    \"Château Pavie-Macquin\",\n",
    "    \"Château Beauséjour\",\n",
    "    \"Château Beau-Séjour Bécot\",\n",
    "    \"Château Magdelaine\",\n",
    "    \"Château Belair-Monange\",\n",
    "    \"Château Larcis-Ducasse\",\n",
    "]\n",
    "wines_st_em = [\n",
    "    wine\n",
    "    for wine in list(prices_st_em[\"Vineyard\"].unique())\n",
    "    if wine not in EXCLUDED_VINEYARDS\n",
    "]\n",
    "\n",
    "prices_st_em = prices_st_em[~prices_st_em[\"Vineyard\"].isin(EXCLUDED_VINEYARDS)]\n",
    "display(\n",
    "    prices_st_em[prices_st_em.isna().any(axis=1)][\"Vintage\"].value_counts().sort_index()\n",
    ")"
   ]
  },
  {
   "cell_type": "code",
   "execution_count": null,
   "metadata": {},
   "outputs": [],
   "source": [
    "plt.figure(figsize=(14,8))\n",
    "plt.yscale('log')\n",
    "sns.lineplot(data=prices_st_em, x='Vintage', y='Price', hue='Vineyard')\n",
    "plt.suptitle('Prices per vintage')\n",
    "plt.legend(bbox_to_anchor=(1.01, 1),\n",
    "           borderaxespad=0)\n",
    "plt.show()"
   ]
  },
  {
   "attachments": {},
   "cell_type": "markdown",
   "metadata": {},
   "source": [
    "### Convert prices to log, then interpolate linearly"
   ]
  },
  {
   "cell_type": "code",
   "execution_count": null,
   "metadata": {},
   "outputs": [],
   "source": [
    "prices_st_em.loc[:,'Price'] = np.log(prices_st_em['Price'])\n",
    "prices_st_em.loc[:,'Price'] = prices_st_em.groupby('Vineyard').transform(lambda s: s.interpolate(limit_area='inside'))#.ffill()"
   ]
  },
  {
   "cell_type": "code",
   "execution_count": null,
   "metadata": {},
   "outputs": [],
   "source": [
    "prices_st_em.loc[prices_st_em['Vineyard'] == 'Château Angélus']"
   ]
  },
  {
   "cell_type": "code",
   "execution_count": null,
   "metadata": {},
   "outputs": [],
   "source": [
    "plt.figure(figsize=(14, 8))\n",
    "sns.lineplot(data=prices_st_em, x=\"Vintage\", y=\"Price\", hue=\"Vineyard\")\n",
    "plt.suptitle(\"Prices per vintage\")\n",
    "plt.legend(bbox_to_anchor=(1.01, 1), borderaxespad=0)\n",
    "plt.show()"
   ]
  },
  {
   "cell_type": "code",
   "execution_count": null,
   "metadata": {},
   "outputs": [],
   "source": [
    "avg_price_st_em = prices_st_em.groupby('Vintage').mean()"
   ]
  },
  {
   "attachments": {},
   "cell_type": "markdown",
   "metadata": {},
   "source": [
    "## Pomerol"
   ]
  },
  {
   "cell_type": "code",
   "execution_count": null,
   "metadata": {},
   "outputs": [],
   "source": [
    "prices_pomerol = prices[prices[\"Appellation\"] == \"Pomerol\"]\n",
    "print(\"Missing per vineyard:\")\n",
    "display(prices_pomerol[prices_pomerol.isna().any(axis=1)][\"Vineyard\"].value_counts())\n",
    "\n",
    "EXCLUDED_VINEYARDS = [\n",
    "    \"Château Le Gay\",\n",
    "    \"Château Le Bon pasteur\",\n",
    "    \"Clos l'Eglise\",\n",
    "    \"Château l'Eglise Clinet\",\n",
    "    \"Château La Fleur-Pétrus\",\n",
    "]\n",
    "wines_pomerol = [\n",
    "    wine\n",
    "    for wine in list(prices_pomerol[\"Vineyard\"].unique())\n",
    "    if wine not in EXCLUDED_VINEYARDS\n",
    "]\n",
    "\n",
    "prices_pomerol = prices_pomerol[~prices_pomerol[\"Vineyard\"].isin(EXCLUDED_VINEYARDS)]\n",
    "display(\n",
    "    prices_pomerol[prices_pomerol.isna().any(axis=1)][\"Vintage\"]\n",
    "    .value_counts()\n",
    "    .sort_index()\n",
    ")"
   ]
  },
  {
   "cell_type": "code",
   "execution_count": null,
   "metadata": {},
   "outputs": [],
   "source": [
    "plt.figure(figsize=(14,8))\n",
    "plt.yscale('log')\n",
    "sns.lineplot(data=prices_pomerol, x='Vintage', y='Price', hue='Vineyard')\n",
    "plt.suptitle('Prices per vintage')\n",
    "plt.legend(bbox_to_anchor=(1.01, 1),\n",
    "           borderaxespad=0)\n",
    "plt.show()"
   ]
  },
  {
   "attachments": {},
   "cell_type": "markdown",
   "metadata": {},
   "source": [
    "### Convert prices to log, then interpolate linearly"
   ]
  },
  {
   "cell_type": "code",
   "execution_count": null,
   "metadata": {},
   "outputs": [],
   "source": [
    "prices_pomerol.loc[:,'Price'] = np.log(prices_pomerol['Price'])\n",
    "prices_pomerol.loc[:,'Price'] = prices_pomerol.groupby('Vineyard').transform(lambda s: s.interpolate(limit_area='inside'))#.ffill()"
   ]
  },
  {
   "cell_type": "code",
   "execution_count": null,
   "metadata": {},
   "outputs": [],
   "source": [
    "plt.figure(figsize=(14, 8))\n",
    "sns.lineplot(data=prices_pomerol, x=\"Vintage\", y=\"Price\", hue=\"Vineyard\")\n",
    "plt.suptitle(\"Prices per vintage\")\n",
    "plt.legend(bbox_to_anchor=(1.01, 1), borderaxespad=0)\n",
    "plt.show()"
   ]
  },
  {
   "cell_type": "code",
   "execution_count": null,
   "metadata": {},
   "outputs": [],
   "source": [
    "avg_price_pomerol = prices_pomerol.groupby('Vintage').mean()"
   ]
  },
  {
   "attachments": {},
   "cell_type": "markdown",
   "metadata": {},
   "source": [
    "# Export individual wine prices"
   ]
  },
  {
   "cell_type": "code",
   "execution_count": null,
   "metadata": {},
   "outputs": [],
   "source": [
    "prices_per_vineyard = pd.concat([prices_medoc, prices_pessac, prices_pomerol, prices_st_em], axis=0)"
   ]
  },
  {
   "cell_type": "code",
   "execution_count": null,
   "metadata": {},
   "outputs": [],
   "source": [
    "prices_per_vineyard.to_excel('data/prices/prices_per_vineyard.xlsx')\n",
    "prices_per_vineyard.loc[prices_per_vineyard['Vineyard'] == 'Château Angélus']"
   ]
  },
  {
   "cell_type": "code",
   "execution_count": null,
   "metadata": {},
   "outputs": [],
   "source": [
    "plt.rc(\"text\", usetex=False)\n",
    "plt.figure(figsize=(14, 7))\n",
    "\n",
    "plt.yscale(\"log\")\n",
    "plt.grid(True, which=\"both\", axis=\"both\", alpha=0.5)\n",
    "\n",
    "sns.lineplot(\n",
    "    data=prices_per_vineyard,\n",
    "    x=\"Vintage\",\n",
    "    y=\"Price\",\n",
    "    style=\"Appellation\",\n",
    "    hue=\"Appellation\",\n",
    "    linewidth=2,\n",
    "    dashes=[(1, 1), (3, 2), (1, 1, 4, 1), ()],\n",
    "    markers=[\"s\", \"o\", \"o\", \"s\"],\n",
    "    palette=COLOR_PALETTE,\n",
    "    markeredgecolor=\"k\",\n",
    ")\n",
    "plt.ylabel(\"2021 price(€)\")\n",
    "plt.xticks(range(1960, 2018, 5))\n",
    "save_fig(\"views/prices/evolution_by_vineyard\", \"1.5\")\n",
    "plt.show()"
   ]
  },
  {
   "attachments": {},
   "cell_type": "markdown",
   "metadata": {},
   "source": [
    "## Aggregate all prices"
   ]
  },
  {
   "cell_type": "code",
   "execution_count": null,
   "metadata": {},
   "outputs": [],
   "source": [
    "prices_agg = pd.concat([avg_price_medoc, avg_price_pessac, avg_price_pomerol, avg_price_st_em], axis=1)\n",
    "prices_agg.columns = ['Médoc', 'Pessac-Léognan', 'Pomerol', 'Saint-Emilion']"
   ]
  },
  {
   "cell_type": "code",
   "execution_count": null,
   "metadata": {},
   "outputs": [],
   "source": [
    "prices_agg.to_excel('data/prices/generated_agg_prices_per_region.xlsx')"
   ]
  },
  {
   "attachments": {},
   "cell_type": "markdown",
   "metadata": {},
   "source": [
    "## Visualize prices per region"
   ]
  },
  {
   "cell_type": "code",
   "execution_count": null,
   "metadata": {},
   "outputs": [],
   "source": [
    "prices_agg.head()"
   ]
  },
  {
   "cell_type": "code",
   "execution_count": null,
   "metadata": {},
   "outputs": [],
   "source": [
    "prices_melt = (\n",
    "    prices_agg.reset_index()\n",
    "    .melt(id_vars=\"Vintage\")\n",
    "    .rename(columns={\"variable\": \"Appellation\", \"value\": \"Price\"})\n",
    ")"
   ]
  },
  {
   "cell_type": "code",
   "execution_count": null,
   "metadata": {},
   "outputs": [],
   "source": [
    "prices_melt['Price'] = np.exp(prices_melt['Price'])"
   ]
  },
  {
   "cell_type": "code",
   "execution_count": null,
   "metadata": {},
   "outputs": [],
   "source": [
    "import matplotlib.ticker as mticker\n",
    "\n",
    "plt.figure(figsize=(14, 7))\n",
    "\n",
    "plt.grid(True, which=\"both\", axis=\"both\", alpha=0.5)\n",
    "\n",
    "sns.lineplot(\n",
    "    data=prices_melt.sort_values(\"Appellation\"),\n",
    "    x=\"Vintage\",\n",
    "    y=\"Price\",\n",
    "    style=\"Appellation\",\n",
    "    hue=\"Appellation\",\n",
    "    linewidth=2,\n",
    "    dashes=[(1, 1), (3, 2), (1, 1, 4, 1), ()],\n",
    "    markers=[\"s\", \"o\", \"o\", \"s\"],\n",
    "    palette=COLOR_PALETTE,\n",
    "    markeredgecolor=\"k\",\n",
    "    markersize=8,\n",
    ")\n",
    "plt.ylabel(\"2021 price(€)\", labelpad=10)\n",
    "plt.xticks(range(1960, 2014, 5))\n",
    "plt.yscale(\"log\")\n",
    "plt.gca().yaxis.set_major_formatter(mticker.ScalarFormatter())\n",
    "plt.gca().yaxis.set_minor_formatter(mticker.NullFormatter())\n",
    "plt.gca().set_yticks([50, 100, 200, 400, 800])\n",
    "\n",
    "save_fig(\"views/prices/evolution_by_appellation\", width_column=\"1.5\")\n",
    "\n",
    "plt.show()"
   ]
  },
  {
   "attachments": {},
   "cell_type": "markdown",
   "metadata": {},
   "source": [
    "### Show skew"
   ]
  },
  {
   "cell_type": "code",
   "execution_count": null,
   "metadata": {},
   "outputs": [],
   "source": [
    "import numpy as np\n",
    "from scipy.stats import kurtosis, skew\n",
    "\n",
    "skew_table = pd.DataFrame(index=[\"Skew\", \"Kurtosis\"], columns=prices_agg.columns)\n",
    "skew_table.loc[\"Skew\", :] = prices_agg.apply(lambda x: skew(x), axis=0)\n",
    "skew_table.loc[\"Kurtosis\", :] = prices_agg.apply(lambda x: kurtosis(x), axis=0)\n",
    "skew_table"
   ]
  },
  {
   "cell_type": "code",
   "execution_count": null,
   "metadata": {},
   "outputs": [],
   "source": [
    "prices_agg_exp = np.exp(prices_agg)\n",
    "skew_table = pd.DataFrame(index=[\"Skew\", \"Kurtosis\"], columns=prices_agg.columns)\n",
    "skew_table.loc[\"Skew\", :] = prices_agg_exp.apply(lambda x: skew(x), axis=0)\n",
    "skew_table.loc[\"Kurtosis\", :] = prices_agg_exp.apply(lambda x: kurtosis(x), axis=0)\n",
    "skew_table"
   ]
  },
  {
   "cell_type": "code",
   "execution_count": null,
   "metadata": {
    "scrolled": true
   },
   "outputs": [],
   "source": [
    "prices_agg_log = np.log(prices_agg - 3.7)\n",
    "skew_table = pd.DataFrame(index=[\"Skew\", \"Kurtosis\"], columns=prices_agg.columns)\n",
    "skew_table.loc[\"Skew\", :] = prices_agg_log.apply(lambda x: skew(x), axis=0)\n",
    "skew_table.loc[\"Kurtosis\", :] = prices_agg_log.apply(lambda x: kurtosis(x), axis=0)\n",
    "skew_table"
   ]
  },
  {
   "attachments": {},
   "cell_type": "markdown",
   "metadata": {},
   "source": [
    "---\n",
    "# End of notebook\n"
   ]
  }
 ],
 "metadata": {
  "kernelspec": {
   "display_name": "base",
   "language": "python",
   "name": "python3"
  },
  "language_info": {
   "codemirror_mode": {
    "name": "ipython",
    "version": 3
   },
   "file_extension": ".py",
   "mimetype": "text/x-python",
   "name": "python",
   "nbconvert_exporter": "python",
   "pygments_lexer": "ipython3",
   "version": "3.9.15"
  },
  "vscode": {
   "interpreter": {
    "hash": "0ac38357a05bc42f0ed259dcad053212499e7f4648ddbc814451284e59f63394"
   }
  }
 },
 "nbformat": 4,
 "nbformat_minor": 4
}
