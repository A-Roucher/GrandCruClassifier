{
 "cells": [
  {
   "cell_type": "code",
   "execution_count": null,
   "metadata": {},
   "outputs": [],
   "source": [
    "import seaborn as sns\n",
    "import matplotlib.pyplot as plt\n",
    "import pandas as pd\n",
    "import numpy as np\n",
    "import math\n",
    "\n",
    "from scripts.utils import save_fig, standard_scale\n",
    "\n",
    "\n",
    "%load_ext autoreload\n",
    "%autoreload 2"
   ]
  },
  {
   "cell_type": "code",
   "execution_count": null,
   "metadata": {},
   "outputs": [],
   "source": [
    "df = pd.read_csv(\n",
    "    \"data/features/features-METEO-FRANCE_per_vineyard.csv\", index_col=0, header=[0, 1]\n",
    ")\n",
    "display(df.head())"
   ]
  },
  {
   "cell_type": "markdown",
   "metadata": {},
   "source": [
    "# Build X and y"
   ]
  },
  {
   "cell_type": "code",
   "execution_count": null,
   "metadata": {},
   "outputs": [],
   "source": [
    "VINEYARDS = df.columns.droplevel(1).unique()"
   ]
  },
  {
   "cell_type": "code",
   "execution_count": null,
   "metadata": {},
   "outputs": [],
   "source": [
    "df_early = df.loc[1960:1993]\n",
    "df_late = df.loc[1994:2013]"
   ]
  },
  {
   "cell_type": "code",
   "execution_count": null,
   "metadata": {},
   "outputs": [],
   "source": [
    "ALL_FEATURES = list(\n",
    "    set([feature for feature in df_late.columns.droplevel(0) if feature != \"0 - Price\"])\n",
    ")\n",
    "concat = []\n",
    "for vineyard in VINEYARDS:\n",
    "    features_vineyard = df_late.loc[:, (vineyard,)].copy()[ALL_FEATURES]\n",
    "    features_vineyard[\"Year\"] = features_vineyard.index\n",
    "    concat.append(standard_scale(features_vineyard))\n",
    "\n",
    "X_late = pd.concat(concat)\n",
    "\n",
    "concat = []\n",
    "for vineyard in VINEYARDS:\n",
    "    features_vineyard = df_early.loc[:, (vineyard,)].copy()[ALL_FEATURES]\n",
    "    features_vineyard[\"Year\"] = features_vineyard.index\n",
    "    concat.append(standard_scale(features_vineyard))\n",
    "\n",
    "X_early = pd.concat(concat)"
   ]
  },
  {
   "cell_type": "code",
   "execution_count": null,
   "metadata": {},
   "outputs": [],
   "source": [
    "prices = df_early.loc[:, (slice(None), '0 - Price')]\n",
    "prices.columns = prices.columns.droplevel(1)\n",
    "prices = prices - prices.mean(axis=0)\n",
    "prices\n",
    "concat = []\n",
    "for vineyard in VINEYARDS:\n",
    "    scaled = standard_scale(prices[[vineyard]])\n",
    "    scaled.columns=['price']\n",
    "    concat.append(scaled)\n",
    "y_early = pd.concat(concat, axis=0)\n",
    "\n",
    "prices = df_late.loc[:, (slice(None), '0 - Price')]\n",
    "prices.columns = prices.columns.droplevel(1)\n",
    "prices = prices - prices.mean(axis=0)\n",
    "prices\n",
    "concat = []\n",
    "for vineyard in VINEYARDS:\n",
    "    scaled = standard_scale(prices[[vineyard]])\n",
    "    scaled.columns=['price']\n",
    "    concat.append(scaled)\n",
    "y_late = pd.concat(concat, axis=0)"
   ]
  },
  {
   "cell_type": "code",
   "execution_count": null,
   "metadata": {},
   "outputs": [],
   "source": [
    "from sklearn.feature_selection import (\n",
    "    r_regression, p_values\n",
    ")\n",
    "\n",
    "coefs = r_regression(X_late, y_late.iloc[:, 0])\n",
    "coefs = pd.DataFrame(\n",
    "    np.concatenate([coefs.reshape(-1, 1), p_values.reshape(-1, 1)], axis=1),\n",
    "    index=X.columns,\n",
    "    columns=[\"F-statistic\", \"p-value\"],\n",
    ")\n",
    "display(coefs.loc[coefs[\"F-statistic\"].abs().nlargest(10).index])"
   ]
  },
  {
   "cell_type": "code",
   "execution_count": null,
   "metadata": {},
   "outputs": [],
   "source": [
    "from scipy.stats import pearsonr\n",
    "pearsonr(X_late[\"WD: flowering - harvest\"], X_late[\"P: véraison - harvest\"])"
   ]
  },
  {
   "cell_type": "code",
   "execution_count": null,
   "metadata": {},
   "outputs": [],
   "source": [
    "coefs = r_regression(X_late, y_late.iloc[:, 0])\n",
    "coefs= pd.DataFrame(np.concatenate([coefs.reshape(-1,1), p_values.reshape(-1,1)], axis=1), index=X.columns, columns=[\"PearsonR\", \"p-value\"])\n",
    "ordered_coefs = coefs.loc[coefs[\"PearsonR\"].abs().nlargest(10).index]\n",
    "ordered_coefs.to_excel(\"a.xls\")\n"
   ]
  },
  {
   "cell_type": "markdown",
   "metadata": {},
   "source": [
    "---\n",
    "# End of notebook\n"
   ]
  }
 ],
 "metadata": {
  "kernelspec": {
   "display_name": "Python 3.8.5 ('base')",
   "language": "python",
   "name": "python3"
  },
  "language_info": {
   "codemirror_mode": {
    "name": "ipython",
    "version": 3
   },
   "file_extension": ".py",
   "mimetype": "text/x-python",
   "name": "python",
   "nbconvert_exporter": "python",
   "pygments_lexer": "ipython3",
   "version": "3.8.5"
  },
  "vscode": {
   "interpreter": {
    "hash": "6264f468922f00fb0b021562f7c8975e1d70a24288160f1875032f8709927306"
   }
  }
 },
 "nbformat": 4,
 "nbformat_minor": 4
}
