{
 "cells": [
  {
   "cell_type": "code",
   "execution_count": null,
   "metadata": {},
   "outputs": [],
   "source": [
    "import pandas as pd"
   ]
  },
  {
   "cell_type": "code",
   "execution_count": null,
   "metadata": {},
   "outputs": [],
   "source": [
    "df1 = pd.read_csv('data/weather/weather_merignac_daily_raw_1.csv', sep=';', decimal=',')\n",
    "print('Proportion of missing lines:')\n",
    "display(df1.isnull().sum()/len(df1))"
   ]
  },
  {
   "cell_type": "markdown",
   "metadata": {},
   "source": [
    "<table class=\"liste\" width=\"75%\" cellspacing=\"2\" cellpadding=\"2\" border=\"1\"><tbody>\n",
    "<tr><th>Mnémonique</th><th>Libellé</th><th>Unité</th><th>Pas de temps</th></tr>\n",
    "<tr><td>RR</td><td>HAUTEUR DE PRECIPITATIONS QUOTIDIENNE</td><td>MILLIMETRES&nbsp;ET&nbsp;1/10</td><td>quotidien</td></tr>\n",
    "<tr><td>TN</td><td>TEMPERATURE MINIMALE SOUS ABRI QUOTIDIENNE</td><td>DEG&nbsp;C&nbsp;ET&nbsp;1/10</td><td>quotidien</td></tr>\n",
    "<tr><td>TX</td><td>TEMPERATURE MAXIMALE SOUS ABRI QUOTIDIENNE</td><td>DEG&nbsp;C&nbsp;ET&nbsp;1/10</td><td>quotidien</td></tr>\n",
    "<tr><td>TM</td><td>TEMPERATURE MOYENNE SOUS ABRI QUOTIDIENNE</td><td>DEG&nbsp;C&nbsp;ET&nbsp;1/10</td><td>quotidien</td></tr>\n",
    "<tr><td>PMERM</td><td>PRESSION MER MOYENNE QUOTIDIENNE</td><td>HPA&nbsp;ET&nbsp;1/10</td><td>quotidien</td></tr>\n",
    "<tr><td>FF2M</td><td>MOYENNE DES VITESSES DU VENT A 2 METRES QUOTIDIENNE</td><td>M/S&nbsp;ET&nbsp;1/10</td><td>quotidien</td></tr>\n",
    "<tr><td>INST</td><td>DUREE D'INSOLATION QUOTIDIENNE</td><td>MINUTES</td><td>quotidien</td></tr>\n",
    "<tr><td>GLOT</td><td>RAYONNEMENT GLOBAL QUOTIDIEN</td><td>JOULES/CM2</td><td>quotidien</td></tr>\n",
    "<tr><td>GRELE</td><td>OCCURRENCE DE GRELE QUOTIDIENNE</td><td>BOOLEEN</td><td>quotidien</td></tr>\n",
    "<tr><td>ETPMON</td><td>EVAPO—TRANSPIRATION MONTEITH QUOTIDIENNE</td><td>MILLIMETRES&nbsp;ET&nbsp;1/10</td><td>quotidien</td></tr>\n",
    "</tbody></table>"
   ]
  },
  {
   "cell_type": "code",
   "execution_count": null,
   "metadata": {},
   "outputs": [],
   "source": [
    "df1[df1['GRELE'].isnull()].tail(20)"
   ]
  },
  {
   "cell_type": "code",
   "execution_count": null,
   "metadata": {},
   "outputs": [],
   "source": [
    "df2 = pd.read_csv('data/weather/weather_merignac_daily_raw_2.csv', sep=';', decimal=',')\n",
    "print('Proportion of missing lines:')\n",
    "display(df2.isnull().sum()/len(df2))"
   ]
  },
  {
   "cell_type": "markdown",
   "metadata": {},
   "source": [
    "<table class=\"liste\" width=\"75%\" cellspacing=\"2\" cellpadding=\"2\" border=\"1\"><tbody>\n",
    "<tr><th>Mnémonique</th><th>Libellé</th><th>Unité</th><th>Pas de temps</th></tr>\n",
    "<tr><td>FFM</td><td>MOYENNE DES VITESSES DU VENT A 10M QUOTIDIENNE</td><td>M/S&nbsp;ET&nbsp;1/10</td><td>quotidien</td></tr>\n",
    "<tr><td>DIRT</td><td>RAYONNEMENT&nbsp;DIRECT&nbsp;QUOTIDIEN</td><td>JOULES/CM2</td><td>quotidien</td></tr>\n",
    "</tbody></table>"
   ]
  },
  {
   "cell_type": "code",
   "execution_count": null,
   "metadata": {},
   "outputs": [],
   "source": [
    "df = df1.merge(df2, on = ['POSTE', 'DATE']).drop(['POSTE','FF2M', 'GLOT', 'DIRT'], axis=1)\n",
    "\n",
    "df['Date'] = pd.to_datetime(df['DATE'].astype(str))\n",
    "df = df.set_index('Date').drop('DATE', axis=1).rename(\n",
    "    columns={\n",
    "        'RR':'P',\n",
    "        'TN':'Tn',\n",
    "        'TX':'Tx',\n",
    "        'TM':'Tm',\n",
    "        'PMERM':'Pr',\n",
    "        'INST':'Sun',\n",
    "        'GRELE':'Hail',\n",
    "        'ETPMON':'ETPmon',\n",
    "        'FFM':'Wind'\n",
    "    })"
   ]
  },
  {
   "cell_type": "markdown",
   "metadata": {},
   "source": [
    "# Output to csv"
   ]
  },
  {
   "cell_type": "code",
   "execution_count": null,
   "metadata": {},
   "outputs": [],
   "source": [
    "df.to_csv('data/weather_merignac_daily.csv')"
   ]
  },
  {
   "cell_type": "markdown",
   "metadata": {},
   "source": [
    "# SAFRAN Model"
   ]
  },
  {
   "cell_type": "markdown",
   "metadata": {},
   "source": [
    "  <table class=\"liste\" width=\"75%\" cellspacing=\"2\" cellpadding=\"2\" border=\"1\"><tbody>\n",
    "<tr><th>Mnémonique</th><th>Libellé</th><th>Unité</th><th>Pas de temps</th></tr>\n",
    "<tr><td>PRENEI_Q</td><td>Précipitations solides, cumul quotidien, SAFRAN</td><td>mm et dixièmes</td><td>quotidien</td></tr>\n",
    "<tr><td>PRELIQ_Q</td><td>Précipitations liquides, cumul quotidien, SAFRAN</td><td>mm et dixièmes</td><td>quotidien</td></tr>\n",
    "<tr><td>T_Q</td><td>Température, moyenne quotidienne, SAFRAN</td><td>°C et dixièmes</td><td>quotidien</td></tr>\n",
    "<tr><td>FF_Q</td><td>Vent, moyenne quotidienne, SAFRAN</td><td>m/s et dixièmes</td><td>quotidien</td></tr>\n",
    "<tr><td>SSI_Q</td><td>Rayonnement visible, cumul quotidien, SAFRAN</td><td>J/cm²</td><td>quotidien</td></tr>\n",
    "<tr><td>EVAP_Q</td><td>Evaporation totale réelle, cumul quotidien, SURFEX</td><td>mm et dixièmes</td><td>quotidien</td></tr>\n",
    "<tr><td>ETP_Q</td><td>Evapotranspiration potentielle (formule de Penman—Monteith)</td><td>mm et dixièmes</td><td>quotidien</td></tr>\n",
    "<tr><td>PE_Q</td><td>Pluies efficaces, cumul quotidien</td><td>mm et dixièmes</td><td>quotidien</td></tr>\n",
    "<tr><td>SWI_Q</td><td>Indice d humidité des sols, moyenne quotidienne, SURFEX</td><td> </td><td>quotidien</td></tr>\n",
    "<tr><td>TINF_H_Q</td><td>Température minimale des 24 températures horaires, SAFRAN</td><td>°C et dixièmes</td><td>quotidien</td></tr>\n",
    "<tr><td>TSUP_H_Q</td><td>Température maximale des 24 températures horaires, SAFRAN</td><td>°C et dixièmes</td><td>quotidien</td></tr>\n",
    "</tbody></table>"
   ]
  },
  {
   "cell_type": "markdown",
   "metadata": {},
   "source": [
    "#### St Emilion\n",
    "\n",
    "Références géographiques\n",
    "\n",
    "Point N° 7256 (Lon : —0.145  / Lat : 44.91 )"
   ]
  },
  {
   "cell_type": "code",
   "execution_count": null,
   "metadata": {},
   "outputs": [],
   "source": [
    "df_st_em = pd.read_excel(\"data/weather/weather_st_emilion_daily_raw.xls\").drop(\n",
    "    [\"NUMERO\", \"LONGITUDE\", \"LATITUDE\"], axis=1\n",
    ")\n",
    "df_st_em_additional = pd.read_excel(\"data/weather/weather_st_emilion_additional_daily_raw.xls\").drop(\n",
    "    [\"NUMERO\", \"LAMBERTX\", \"LAMBERTY\"], axis=1\n",
    ")\n",
    "df_st_em = pd.concat([df_st_em, df_st_em_additional])\n",
    "df_st_em[\"DATE\"] = df_st_em[\"DATE\"].dt.normalize()\n",
    "df_st_em = df_st_em[df_st_em[\"DATE\"].dt.year >= 1960]\n",
    "df_st_em = df_st_em.rename(\n",
    "    columns={\n",
    "        \"PRENEI_Q\": \"Ps\",\n",
    "        \"PRELIQ_Q\": \"Pl\",\n",
    "        \"T_Q\": \"Tm\",\n",
    "        \"FF_Q\": \"Wind\",\n",
    "        \"SSI_Q\": \"Sun\",\n",
    "        \"EVAP_Q\": \"Evap\",\n",
    "        \"ETP_Q\": \"ETP\",\n",
    "        \"PE_Q\": \"Peff\",\n",
    "        \"SWI_Q\": \"SoilHum\",\n",
    "        \"TINF_H_Q\": \"Tn\",\n",
    "        \"TSUP_H_Q\": \"Tx\",\n",
    "        \"DATE\": \"Date\",\n",
    "    }\n",
    ").set_index(\"Date\")\n",
    "df_st_em[\"P\"] = df_st_em[\"Ps\"] + df_st_em[\"Pl\"]\n",
    "display(df_st_em.head())\n",
    "df_st_em.info()\n",
    "\n",
    "df_st_em.to_csv(\"data/weather/generated_weather_st_em.csv\")"
   ]
  },
  {
   "cell_type": "markdown",
   "metadata": {},
   "source": [
    "#### Pauillac\n",
    "\n",
    "Point N° 6931 (X : 3560 hm / Y : 20250 hm)\n",
    "\n",
    "LON = -0.767, LAT = 45.182"
   ]
  },
  {
   "cell_type": "code",
   "execution_count": null,
   "metadata": {},
   "outputs": [],
   "source": [
    "df_pauillac = pd.read_excel(\"data/weather/weather_pauillac_daily_raw.xls\").drop(\n",
    "    [\"NUMERO\", \"LAMBERTX\", \"LAMBERTY\"], axis=1\n",
    ")\n",
    "df_pauillac_additional = pd.read_excel(\"data/weather/weather_pauillac_additional_daily_raw.xls\").drop(\n",
    "    [\"NUMERO\", \"LAMBERTX\", \"LAMBERTY\"], axis=1\n",
    ")\n",
    "df_pauillac = pd.concat([df_pauillac, df_pauillac_additional])\n",
    "df_pauillac[\"DATE\"] = df_pauillac[\"DATE\"].dt.normalize()\n",
    "df_pauillac = df_pauillac[df_pauillac[\"DATE\"].dt.year >= 1960]\n",
    "df_pauillac = df_pauillac.rename(\n",
    "    columns={\n",
    "        \"PRENEI_Q\": \"Ps\",\n",
    "        \"PRELIQ_Q\": \"Pl\",\n",
    "        \"T_Q\": \"Tm\",\n",
    "        \"FF_Q\": \"Wind\",\n",
    "        \"SSI_Q\": \"Sun\",\n",
    "        \"EVAP_Q\": \"Evap\",\n",
    "        \"ETP_Q\": \"ETP\",\n",
    "        \"PE_Q\": \"Peff\",\n",
    "        \"SWI_Q\": \"SoilHum\",\n",
    "        \"TINF_H_Q\": \"Tn\",\n",
    "        \"TSUP_H_Q\": \"Tx\",\n",
    "        \"DATE\": \"Date\",\n",
    "    }\n",
    ").set_index(\"Date\")\n",
    "df_pauillac[\"P\"] = df_pauillac[\"Ps\"] + df_pauillac[\"Pl\"]\n",
    "display(df_pauillac.head())\n",
    "df_pauillac.info()\n",
    "\n",
    "df_pauillac.to_csv(\"data/weather/generated_weather_pauillac.csv\")"
   ]
  },
  {
   "cell_type": "markdown",
   "metadata": {},
   "source": [
    "#### Leognan\n",
    "Point N 7418 (Lon : -0.542 / Lat: 44.756)"
   ]
  },
  {
   "cell_type": "code",
   "execution_count": null,
   "metadata": {},
   "outputs": [],
   "source": [
    "df_leognan = pd.read_excel(\"data/weather/weather_leognan_daily_raw.xls\").drop(\n",
    "    [\"NUMERO\", \"LONGITUDE\", \"LATITUDE\"], axis=1\n",
    ")\n",
    "df_leognan_additional = pd.read_excel(\"data/weather/weather_leognan_additional_daily_raw.xls\").drop(\n",
    "    [\"NUMERO\", \"LAMBERTX\", \"LAMBERTY\"], axis=1\n",
    ")\n",
    "df_leognan = pd.concat([df_leognan, df_leognan_additional])\n",
    "df_leognan[\"DATE\"] = df_leognan[\"DATE\"].dt.normalize()\n",
    "df_leognan = df_leognan[df_leognan[\"DATE\"].dt.year >= 1960]\n",
    "df_leognan = df_leognan.rename(\n",
    "    columns={\n",
    "        \"PRENEI_Q\": \"Ps\",\n",
    "        \"PRELIQ_Q\": \"Pl\",\n",
    "        \"T_Q\": \"Tm\",\n",
    "        \"FF_Q\": \"Wind\",\n",
    "        \"SSI_Q\": \"Sun\",\n",
    "        \"EVAP_Q\": \"Evap\",\n",
    "        \"ETP_Q\": \"ETP\",\n",
    "        \"PE_Q\": \"Peff\",\n",
    "        \"SWI_Q\": \"SoilHum\",\n",
    "        \"TINF_H_Q\": \"Tn\",\n",
    "        \"TSUP_H_Q\": \"Tx\",\n",
    "        \"DATE\": \"Date\",\n",
    "    }\n",
    ").set_index(\"Date\")\n",
    "df_leognan[\"P\"] = df_leognan[\"Ps\"] + df_leognan[\"Pl\"]\n",
    "display(df_leognan.head())\n",
    "df_leognan.info()\n",
    "\n",
    "df_leognan.to_csv(\"data/weather/generated_weather_leognan.csv\")"
   ]
  },
  {
   "cell_type": "markdown",
   "metadata": {},
   "source": [
    "---\n",
    "# End of notebook"
   ]
  }
 ],
 "metadata": {
  "kernelspec": {
   "display_name": "base",
   "language": "python",
   "name": "python3"
  },
  "language_info": {
   "codemirror_mode": {
    "name": "ipython",
    "version": 3
   },
   "file_extension": ".py",
   "mimetype": "text/x-python",
   "name": "python",
   "nbconvert_exporter": "python",
   "pygments_lexer": "ipython3",
   "version": "3.9.15"
  },
  "vscode": {
   "interpreter": {
    "hash": "0ac38357a05bc42f0ed259dcad053212499e7f4648ddbc814451284e59f63394"
   }
  }
 },
 "nbformat": 4,
 "nbformat_minor": 4
}
