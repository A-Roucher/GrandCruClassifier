{
 "cells": [
  {
   "cell_type": "code",
   "execution_count": 1,
   "id": "a72be7eb",
   "metadata": {},
   "outputs": [],
   "source": [
    "import pandas as pd\n",
    "import numpy as np\n",
    "import matplotlib.pyplot as plt\n",
    "import seaborn as sns\n",
    "import plotly.express as px\n",
    "import math\n",
    "\n",
    "import matplotlib.pyplot as plt\n",
    "import numpy as np\n",
    "from scripts.linear_experiments import linear_test_model, LPM_LS\n",
    "from scripts.utils import score_models, plot_predictions, save_fig\n",
    "\n",
    "plt.rcParams['figure.figsize'] = (10, 4)\n",
    "%load_ext autoreload\n",
    "%autoreload 2\n",
    "font = {\n",
    "    'weight' : 'regular',\n",
    "    'family': 'serif',\n",
    "    'size'   : 16\n",
    "}\n",
    "plt.rc('font', **font)"
   ]
  },
  {
   "cell_type": "code",
   "execution_count": 3,
   "id": "b8980b43",
   "metadata": {},
   "outputs": [],
   "source": [
    "df_test = pd.read_csv(f'data/features/features-METEO-FRANCE_per_vineyard.csv', index_col=0, header=[0,1], dtype=np.float32)\n",
    "\n",
    "VINEYARDS = list(df_test.T.index.get_level_values(0).unique())\n",
    "\n",
    "predictions = pd.read_csv('model_outputs/prices_predicted.csv')\n"
   ]
  },
  {
   "attachments": {},
   "cell_type": "markdown",
   "id": "8845f7d6",
   "metadata": {},
   "source": [
    "---\n",
    "# End of notebook"
   ]
  }
 ],
 "metadata": {
  "kernelspec": {
   "display_name": "nlp",
   "language": "python",
   "name": "nlp"
  },
  "language_info": {
   "codemirror_mode": {
    "name": "ipython",
    "version": 3
   },
   "file_extension": ".py",
   "mimetype": "text/x-python",
   "name": "python",
   "nbconvert_exporter": "python",
   "pygments_lexer": "ipython3",
   "version": "3.10.6"
  },
  "vscode": {
   "interpreter": {
    "hash": "0ac38357a05bc42f0ed259dcad053212499e7f4648ddbc814451284e59f63394"
   }
  }
 },
 "nbformat": 4,
 "nbformat_minor": 5
}
