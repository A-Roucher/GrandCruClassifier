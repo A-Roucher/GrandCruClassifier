{
 "cells": [
  {
   "cell_type": "code",
   "execution_count": null,
   "metadata": {},
   "outputs": [],
   "source": [
    "import pandas as pd\n",
    "import numpy as np\n",
    "import matplotlib.pyplot as plt\n",
    "import seaborn as sns\n",
    "import geopandas\n",
    "import contextily as cx\n",
    "from matplotlib.patches import Patch, Polygon\n",
    "\n",
    "from scripts.utils import save_fig\n",
    "\n",
    "%load_ext autoreload\n",
    "%autoreload 2\n",
    "font = {'weight' : 'regular',\n",
    "        'family': 'serif',\n",
    "        'size'   : 16}\n",
    "plt.rc('font', **font)\n",
    "plt.rc('xtick', labelsize='14')\n",
    "plt.rc('ytick', labelsize='14')\n",
    "COLOR_PALETTE = np.array(sns.color_palette(\"colorblind\"))[[5,0,2,3]]"
   ]
  },
  {
   "cell_type": "code",
   "execution_count": null,
   "metadata": {},
   "outputs": [],
   "source": [
    "colors = [(1, 0.6, 0), (0.3, 0.6, 0.3), (0.8, 0.1, 0.), (0.3, 0.3, 1)]"
   ]
  },
  {
   "cell_type": "code",
   "execution_count": null,
   "metadata": {},
   "outputs": [],
   "source": [
    "appelations = geopandas.read_file(\"data/wine_regions/2021-12-22-delim-parcellaire-aoc-shp\")"
   ]
  },
  {
   "cell_type": "code",
   "execution_count": null,
   "metadata": {
    "scrolled": false
   },
   "outputs": [],
   "source": [
    "df_locations = pd.read_excel('data/gathered_from_internet/vineyard_locations.xlsx')\n",
    "df_locations = df_locations.rename(columns={'region': 'Region'})"
   ]
  },
  {
   "cell_type": "code",
   "execution_count": null,
   "metadata": {},
   "outputs": [],
   "source": [
    "appelations = appelations[(appelations[\"dt\"]==\"Bordeaux\")&(appelations[\"categorie\"]==\"Vin tranquille\")]"
   ]
  },
  {
   "cell_type": "code",
   "execution_count": null,
   "metadata": {},
   "outputs": [],
   "source": [
    "appelations[\"denom\"].unique()"
   ]
  },
  {
   "cell_type": "code",
   "execution_count": null,
   "metadata": {},
   "outputs": [],
   "source": [
    "gdf = geopandas.GeoDataFrame(\n",
    "    df_locations[[\"Region\"]], geometry=geopandas.points_from_xy(df_locations.longitude, df_locations.latitude))\n",
    "gdf.crs = \"epsg:4326\"\n",
    "gdf = gdf.to_crs(\"epsg:3395\")"
   ]
  },
  {
   "cell_type": "code",
   "execution_count": null,
   "metadata": {},
   "outputs": [],
   "source": [
    "medoc = appelations[appelations[\"denom\"].isin([\"Médoc\"])]\n",
    "pessac = appelations[appelations[\"denom\"].isin([\"Pessac-Léognan\"])]\n",
    "pomerol = appelations[appelations[\"denom\"].isin([\"Pomerol\"])]\n",
    "st_emilion = appelations[appelations[\"denom\"].isin([\"Saint-Emilion\"])]"
   ]
  },
  {
   "cell_type": "code",
   "execution_count": null,
   "metadata": {},
   "outputs": [],
   "source": [
    "pessac = pessac.to_crs(gdf.crs.to_string())\n",
    "medoc = medoc.to_crs(gdf.crs.to_string())\n",
    "pomerol = pomerol.to_crs(gdf.crs.to_string())\n",
    "st_emilion = st_emilion.to_crs(gdf.crs.to_string())"
   ]
  },
  {
   "cell_type": "markdown",
   "metadata": {},
   "source": [
    "Saint-Émilion (Lon = 44.91, Lat = -0.14), Pauillac (LON = -0.767, LAT = 45.182) and Léognan (Lon : -0.542 / Lat: 44.756)"
   ]
  },
  {
   "cell_type": "code",
   "execution_count": null,
   "metadata": {},
   "outputs": [],
   "source": [
    "weather_points = pd.DataFrame({\n",
    "    'latitude': [44.91, 45.182, 44.756],\n",
    "    'longitude': [-0.14, -0.767, -0.542],\n",
    "})\n",
    "weather_points_gdf = geopandas.GeoDataFrame(\n",
    "    geometry=geopandas.points_from_xy(weather_points.longitude, weather_points.latitude))\n",
    "weather_points_gdf.crs = \"epsg:4326\"\n",
    "weather_points_gdf = weather_points_gdf.to_crs(\"epsg:3395\")"
   ]
  },
  {
   "cell_type": "markdown",
   "metadata": {},
   "source": [
    "##### ! Keep high figsize, as it reduces watermark size !"
   ]
  },
  {
   "cell_type": "code",
   "execution_count": null,
   "metadata": {
    "scrolled": false
   },
   "outputs": [],
   "source": [
    "list_regions = sorted(list(gdf['Region'].unique()))\n",
    "dict_colors = {list_regions[i]: COLOR_PALETTE[i] for i in range(len(list_regions))}\n",
    "\n",
    "fig, ax = plt.subplots(figsize=(12,12))\n",
    "print(plt.gcf().get_size_inches())\n",
    "gdf.plot(ax=ax, zorder=2, markersize=100, edgecolor=\"k\", linewidth=1.1, categorical=True, marker='s', c=gdf[\"Region\"].map(dict_colors))\n",
    "weather_points_gdf.plot(ax=ax, zorder=3, markersize=300, linewidth=2, edgecolor=\"k\", facecolor=\"w\", marker='v')\n",
    "\n",
    "import matplotlib.lines as mlines\n",
    "triangle_vertice =ax.plot([], markersize=17, markeredgewidth=2, color=\"w\", markeredgecolor=\"k\", marker='v', label=\"Weather records\")[0]\n",
    "\n",
    "pessac.plot(ax=ax, facecolor=dict_colors[\"Pessac\"], alpha=0.7)\n",
    "st_emilion.plot(ax=ax,  facecolor=dict_colors[\"Saint-Emilion\"], alpha=0.7)\n",
    "pomerol.plot(ax=ax,  facecolor=dict_colors[\"Pomerol\"], alpha=0.7)\n",
    "medoc.plot(ax=ax, facecolor=dict_colors[\"Medoc\"], alpha=0.7)\n",
    "\n",
    "plt.xlim((-95000, -4000))\n",
    "plt.ylim((5540000, 5640000))\n",
    "plt.axis('off')\n",
    "\n",
    "legend_handles = [\n",
    "    Patch(facecolor=dict_colors[\"Medoc\"], label=\"Médoc\"),\n",
    "    Patch(facecolor=dict_colors[\"Pomerol\"], label=\"Pomerol\"),\n",
    "    Patch(facecolor=dict_colors[\"Saint-Emilion\"], label=\"Saint-Emilion\"),\n",
    "    Patch(facecolor=dict_colors[\"Pessac\"], label=\"Pessac-Léognan\"),\n",
    "    triangle_vertice\n",
    "]\n",
    "ax.legend(fontsize=14, handles=legend_handles, loc=\"upper right\", frameon=True)\n",
    "plt.text(-72000, 5566300, \"BORDEAUX\", family='serif', fontsize=17, weight=\"bold\")#, bbox=dict(boxstyle='square,pad=0.15', fc='white', ec='k'))\n",
    "\n",
    "cx.add_basemap(ax, alpha=0.4, zorder=-1, source=cx.providers.Stamen.TonerBackground, crs=gdf.crs.to_string(), zoom=13)\n",
    "\n",
    "save_fig(\"views/map\", \"double\")\n",
    "plt.show()"
   ]
  },
  {
   "cell_type": "markdown",
   "metadata": {},
   "source": [
    "---\n",
    "# End of notebook\n"
   ]
  }
 ],
 "metadata": {
  "kernelspec": {
   "display_name": "gcc",
   "language": "python",
   "name": "gcc"
  },
  "language_info": {
   "codemirror_mode": {
    "name": "ipython",
    "version": 3
   },
   "file_extension": ".py",
   "mimetype": "text/x-python",
   "name": "python",
   "nbconvert_exporter": "python",
   "pygments_lexer": "ipython3",
   "version": "3.8.10"
  }
 },
 "nbformat": 4,
 "nbformat_minor": 4
}
