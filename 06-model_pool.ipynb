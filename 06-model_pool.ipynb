{
 "cells": [
  {
   "cell_type": "code",
   "execution_count": null,
   "metadata": {},
   "outputs": [],
   "source": [
    "import pandas as pd\n",
    "import matplotlib.pyplot as plt\n",
    "from sklearn.linear_model import LinearRegression\n",
    "from sklearn.tree import DecisionTreeRegressor\n",
    "from sklearn.ensemble import RandomForestRegressor, GradientBoostingRegressor\n",
    "from sklearn.svm import SVR\n",
    "from scipy import stats\n",
    "\n",
    "from scripts.model_pool import test_model\n",
    "from scripts.utils import score_models\n",
    "\n",
    "plt.rcParams['figure.figsize'] = (12, 4)\n",
    "%load_ext autoreload\n",
    "%autoreload 2"
   ]
  },
  {
   "cell_type": "code",
   "execution_count": null,
   "metadata": {},
   "outputs": [],
   "source": [
    "LIST = ['ERA5', 'METEO-FRANCE']\n",
    "WEATHER_SOURCE = LIST[1]"
   ]
  },
  {
   "cell_type": "code",
   "execution_count": null,
   "metadata": {},
   "outputs": [],
   "source": [
    "df_test = pd.read_csv(f'data/features/features-{WEATHER_SOURCE}_per_vineyard.csv', index_col=0, header=[0,1])"
   ]
  },
  {
   "cell_type": "code",
   "execution_count": null,
   "metadata": {},
   "outputs": [],
   "source": [
    "VINEYARDS = df_test.columns.get_level_values(0).unique()\n",
    "features = df_test.columns.get_level_values(1).unique()"
   ]
  },
  {
   "cell_type": "code",
   "execution_count": null,
   "metadata": {},
   "outputs": [],
   "source": [
    "dict_results = {}\n",
    "first_vintage = 1960\n",
    "last_vintage = 2017\n",
    "target_variable = '0 - Price'\n",
    "predictors = ['P: flowering', 'DTR: véraison - harvest','WD: flowering - harvest']"
   ]
  },
  {
   "cell_type": "markdown",
   "metadata": {},
   "source": [
    "# OLS"
   ]
  },
  {
   "cell_type": "code",
   "execution_count": null,
   "metadata": {
    "scrolled": false
   },
   "outputs": [],
   "source": [
    "model = LinearRegression()\n",
    "dict_results[\"OLS\"] = test_model(\n",
    "    VINEYARDS,\n",
    "    model,\n",
    "    \"OLS\",\n",
    "    df_test,\n",
    "    target_variable,\n",
    "    predictors,\n",
    "    first_vintage,\n",
    "    last_vintage,\n",
    ")"
   ]
  },
  {
   "cell_type": "markdown",
   "metadata": {},
   "source": [
    "# Trees : RF, Boosting"
   ]
  },
  {
   "cell_type": "code",
   "execution_count": null,
   "metadata": {
    "scrolled": true
   },
   "outputs": [],
   "source": [
    "model = DecisionTreeRegressor(max_depth=3)\n",
    "dict_results[\"DT\"] = test_model(\n",
    "    VINEYARDS,\n",
    "    model,\n",
    "    \"Decision Tree\",\n",
    "    df_test,\n",
    "    \"0 - Price\",\n",
    "    predictors,\n",
    "    first_vintage,\n",
    "    last_vintage,\n",
    ")\n",
    "\n",
    "model = RandomForestRegressor(n_estimators=20, max_depth=3)\n",
    "dict_results[\"RF\"] = test_model(\n",
    "    VINEYARDS,\n",
    "    model,\n",
    "    \"Random Forest\",\n",
    "    df_test,\n",
    "    \"0 - Price\",\n",
    "    predictors,\n",
    "    first_vintage,\n",
    "    last_vintage,\n",
    ")\n",
    "\n",
    "model = GradientBoostingRegressor(n_estimators=20)\n",
    "dict_results[\"GB\"] = test_model(\n",
    "    VINEYARDS,\n",
    "    model,\n",
    "    \"Gradient Boosting\",\n",
    "    df_test,\n",
    "    \"0 - Price\",\n",
    "    predictors,\n",
    "    first_vintage,\n",
    "    last_vintage,\n",
    ")"
   ]
  },
  {
   "cell_type": "markdown",
   "metadata": {},
   "source": [
    "# SVR"
   ]
  },
  {
   "cell_type": "code",
   "execution_count": null,
   "metadata": {
    "scrolled": false
   },
   "outputs": [],
   "source": [
    "model = SVR(kernel=\"rbf\")\n",
    "dict_results[\"SVR RBF\"] = test_model(\n",
    "    VINEYARDS,\n",
    "    model,\n",
    "    \"SVR rbf\",\n",
    "    df_test,\n",
    "    target_variable,\n",
    "    predictors,\n",
    "    first_vintage,\n",
    "    last_vintage,\n",
    ")\n",
    "\n",
    "model = SVR(kernel=\"sigmoid\")\n",
    "dict_results[\"SVR sigmoid\"] = test_model(\n",
    "    VINEYARDS,\n",
    "    model,\n",
    "    \"SVR sigmoid\",\n",
    "    df_test,\n",
    "    target_variable,\n",
    "    predictors,\n",
    "    first_vintage,\n",
    "    last_vintage,\n",
    ")"
   ]
  },
  {
   "cell_type": "markdown",
   "metadata": {},
   "source": [
    "# Classical Ashenfelter model"
   ]
  },
  {
   "cell_type": "markdown",
   "metadata": {},
   "source": [
    "Ashenfelter parameters in 2008 *Predicting the Quality and Prices of Bordeaux Wine* paper:\n",
    "- Temperature Growing Season (April - September)\n",
    "- Winter rain (October to March)\n",
    "- August Rain"
   ]
  },
  {
   "cell_type": "code",
   "execution_count": null,
   "metadata": {
    "scrolled": true
   },
   "outputs": [],
   "source": [
    "predictors = [\"Winter Rain\", \"August Rain\", \"Growing Season Tm\"]\n",
    "model = LinearRegression()\n",
    "dict_results[\"Ashenfelter OLS\"] = test_model(\n",
    "    VINEYARDS,\n",
    "    model,\n",
    "    \"Ashenfelter OLS\",\n",
    "    df_test,\n",
    "    target_variable,\n",
    "    predictors,\n",
    "    first_vintage,\n",
    "    last_vintage,\n",
    ")"
   ]
  },
  {
   "cell_type": "markdown",
   "metadata": {},
   "source": [
    "# Square temperature model"
   ]
  },
  {
   "cell_type": "code",
   "execution_count": null,
   "metadata": {
    "scrolled": true
   },
   "outputs": [],
   "source": [
    "predictors = [\"Growing Season Tm\", \"Sq Growing Season Tm\"]\n",
    "model = LinearRegression()\n",
    "dict_results[\"Quadratic OLS\"] = test_model(\n",
    "    VINEYARDS,\n",
    "    model,\n",
    "    \"Quadratic OLS\",\n",
    "    df_test,\n",
    "    target_variable,\n",
    "    predictors,\n",
    "    first_vintage,\n",
    "    last_vintage,\n",
    ")"
   ]
  },
  {
   "cell_type": "code",
   "execution_count": null,
   "metadata": {
    "scrolled": false
   },
   "outputs": [],
   "source": [
    "df_results = pd.concat([dict_results[key] for key in dict_results.keys()])\n",
    "df_prices = df_test.loc[:, (VINEYARDS, \"0 - Price\")].droplevel(1, axis=1)\n",
    "\n",
    "scores = score_models(df_results, df_prices, 1994, 2013)\n",
    "\n",
    "models = scores.columns\n",
    "scores_median = scores.reset_index().groupby(\"Test variable\")[models].median()\n",
    "display(scores_median)\n",
    "scores_median.reset_index().to_excel(\n",
    "    f\"model_outputs/scores/model_pool_predictions-{WEATHER_SOURCE}_per_vineyard.xls\",\n",
    "    index=False,\n",
    ")"
   ]
  },
  {
   "cell_type": "markdown",
   "id": "c7650862",
   "metadata": {},
   "source": [
    "### Welch's t-test"
   ]
  },
  {
   "cell_type": "code",
   "execution_count": null,
   "id": "7fbc10da",
   "metadata": {},
   "outputs": [],
   "source": [
    "stats.ttest_ind(scores.loc['R2', 'OLS'], scores.loc['R2', 'Quadratic OLS'], equal_var = False)"
   ]
  },
  {
   "cell_type": "markdown",
   "metadata": {},
   "source": [
    "---\n",
    "\n",
    "# End of notebook"
   ]
  }
 ],
 "metadata": {
  "kernelspec": {
   "display_name": "Python 3.8.5 ('base')",
   "language": "python",
   "name": "python3"
  },
  "language_info": {
   "codemirror_mode": {
    "name": "ipython",
    "version": 3
   },
   "file_extension": ".py",
   "mimetype": "text/x-python",
   "name": "python",
   "nbconvert_exporter": "python",
   "pygments_lexer": "ipython3",
   "version": "3.8.5"
  },
  "vscode": {
   "interpreter": {
    "hash": "6264f468922f00fb0b021562f7c8975e1d70a24288160f1875032f8709927306"
   }
  }
 },
 "nbformat": 4,
 "nbformat_minor": 5
}
